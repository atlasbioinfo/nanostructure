{
 "cells": [
  {
   "cell_type": "code",
   "execution_count": 9,
   "metadata": {},
   "outputs": [
    {
     "name": "stderr",
     "output_type": "stream",
     "text": [
      "0it [00:00, ?it/s]"
     ]
    },
    {
     "name": "stderr",
     "output_type": "stream",
     "text": [
      "100000it [01:00, 1648.08it/s]\n"
     ]
    },
    {
     "ename": "ValueError",
     "evalue": "not enough values to unpack (expected 4, got 3)",
     "output_type": "error",
     "traceback": [
      "\u001b[0;31m---------------------------------------------------------------------------\u001b[0m",
      "\u001b[0;31mValueError\u001b[0m                                Traceback (most recent call last)",
      "Cell \u001b[0;32mIn[9], line 43\u001b[0m\n\u001b[1;32m     40\u001b[0m     bamfile\u001b[38;5;241m.\u001b[39mclose()\n\u001b[1;32m     41\u001b[0m     \u001b[38;5;28;01mreturn\u001b[39;00m mutations, deletions, insertions\n\u001b[0;32m---> 43\u001b[0m mut_count, del_count, ins_count, read_length \u001b[38;5;241m=\u001b[39m count_modifications(file)\n\u001b[1;32m     44\u001b[0m \u001b[38;5;28mprint\u001b[39m(\u001b[38;5;124mf\u001b[39m\u001b[38;5;124m\"\u001b[39m\u001b[38;5;124mTotal mutations: \u001b[39m\u001b[38;5;132;01m{\u001b[39;00mmut_count\u001b[38;5;132;01m}\u001b[39;00m\u001b[38;5;124m\"\u001b[39m)\n\u001b[1;32m     45\u001b[0m \u001b[38;5;28mprint\u001b[39m(\u001b[38;5;124mf\u001b[39m\u001b[38;5;124m\"\u001b[39m\u001b[38;5;124mTotal deletions: \u001b[39m\u001b[38;5;132;01m{\u001b[39;00mdel_count\u001b[38;5;132;01m}\u001b[39;00m\u001b[38;5;124m\"\u001b[39m)\n",
      "\u001b[0;31mValueError\u001b[0m: not enough values to unpack (expected 4, got 3)"
     ]
    }
   ],
   "source": [
    "file = \"./test/test.sort.bam\"\n",
    "\n",
    "import pysam\n",
    "import numpy as np\n",
    "import re\n",
    "import tqdm\n",
    "\n",
    "def count_modifications(bam_file):\n",
    "    mutations = 0\n",
    "    deletions = 0\n",
    "    insertions = 0\n",
    "    \n",
    "    bamfile = pysam.AlignmentFile(bam_file, \"rb\")\n",
    "    count=100000\n",
    "    read_length=0\n",
    "    for read in tqdm.tqdm(bamfile.fetch()):\n",
    "        if read.is_unmapped:\n",
    "            continue\n",
    "        if count==0:\n",
    "            break\n",
    "        count-=1\n",
    "        read_length+=len(read.query_sequence)\n",
    "        # Count insertions\n",
    "        if any(op[0] == 1 for op in read.cigartuples):\n",
    "            pairs = np.array(read.get_aligned_pairs())\n",
    "            mask = (pairs[:, 0] != None) & (pairs[:, 1] == None)\n",
    "            mask_indices = np.where(mask)[0]\n",
    "            splits = np.where(np.diff(mask_indices) > 1)[0] + 1\n",
    "            insertion_groups = np.split(mask_indices, splits)\n",
    "            insertions += len(insertion_groups)\n",
    "            \n",
    "        # Count mutations and deletions using MD tag\n",
    "        mdtag = read.get_tag(\"MD\")\n",
    "        for match in re.finditer(r'(\\d+)|(\\^[A-Z]+)|([A-Z])', mdtag):\n",
    "            if match.group(2):  # Deletion\n",
    "                deletions += 1\n",
    "            elif match.group(3):  # Mutation\n",
    "                mutations += 1\n",
    "                \n",
    "    bamfile.close()\n",
    "    return mutations, deletions, insertions\n",
    "\n",
    "mut_count, del_count, ins_count, read_length = count_modifications(file)\n",
    "print(f\"Total mutations: {mut_count}\")\n",
    "print(f\"Total deletions: {del_count}\")\n",
    "print(f\"Total insertions: {ins_count}\")\n",
    "print(f\"Average read length: {read_length}\")\n",
    "\n",
    "print(\"Mutations per read: \", mut_count/read_length)\n",
    "print(\"Deletions per read: \", del_count/read_length)\n",
    "print(\"Insertions per read: \", ins_count/read_length)\n",
    "\n",
    "\n"
   ]
  },
  {
   "cell_type": "code",
   "execution_count": null,
   "metadata": {},
   "outputs": [],
   "source": []
  }
 ],
 "metadata": {
  "kernelspec": {
   "display_name": "PLOT",
   "language": "python",
   "name": "python3"
  },
  "language_info": {
   "codemirror_mode": {
    "name": "ipython",
    "version": 3
   },
   "file_extension": ".py",
   "mimetype": "text/x-python",
   "name": "python",
   "nbconvert_exporter": "python",
   "pygments_lexer": "ipython3",
   "version": "3.12.7"
  }
 },
 "nbformat": 4,
 "nbformat_minor": 2
}
